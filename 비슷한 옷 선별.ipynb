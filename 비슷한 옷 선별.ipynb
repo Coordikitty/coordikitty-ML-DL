{
 "cells": [
  {
   "cell_type": "code",
   "execution_count": 38,
   "metadata": {},
   "outputs": [],
   "source": [
    "import torch\n",
    "import torchvision.transforms as transforms\n",
    "from torchvision.models import resnet50\n",
    "from PIL import Image\n",
    "import numpy as np\n",
    "import os\n",
    "from sklearn.metrics.pairwise import cosine_similarity\n",
    "import cv2"
   ]
  },
  {
   "cell_type": "code",
   "execution_count": 39,
   "metadata": {},
   "outputs": [
    {
     "name": "stderr",
     "output_type": "stream",
     "text": [
      "Using cache found in C:\\Users\\USER/.cache\\torch\\hub\\ultralytics_yolov5_master\n",
      "YOLOv5  2024-5-29 Python-3.10.14 torch-2.3.0+cu118 CUDA:0 (NVIDIA GeForce GTX 1660 Ti, 6144MiB)\n",
      "\n",
      "Fusing layers... \n",
      "YOLOv5s summary: 213 layers, 7225885 parameters, 0 gradients, 16.4 GFLOPs\n",
      "Adding AutoShape... \n"
     ]
    }
   ],
   "source": [
    "# 환경 설정\n",
    "device = torch.device('cuda' if torch.cuda.is_available() else 'cpu')\n",
    "\n",
    "# YOLOv5 모델 로드\n",
    "yolo_model = torch.hub.load('ultralytics/yolov5', 'yolov5s', pretrained=True)\n",
    "yolo_model.to(device).eval()\n",
    "\n",
    "# ResNet 모델 로드 및 특징 추출 레이어 설정\n",
    "resnet_model = resnet50(pretrained=True)\n",
    "resnet_model = torch.nn.Sequential(*list(resnet_model.children())[:-1])  # 마지막 FC layer 제거\n",
    "resnet_model.to(device).eval()\n",
    "\n",
    "# 변환 함수 정의\n",
    "transform = transforms.Compose([\n",
    "    # transforms.ToPILImage(),\n",
    "    transforms.Resize((224, 224)),\n",
    "    transforms.ToTensor(),\n",
    "    transforms.Normalize(mean=[0.485, 0.456, 0.406], std=[0.229, 0.224, 0.225]),\n",
    "])\n",
    "\n",
    "def extract_features(image, model):\n",
    "    if not isinstance(image, Image.Image):\n",
    "        print(f\"잘못된 이미지 형식: {type(image)}, PIL.Image.Image 형식이어야 합니다.\")\n",
    "        return None\n",
    "    \n",
    "    image = transform(image).unsqueeze(0).to(device)\n",
    "    with torch.no_grad():\n",
    "        features = model(image).cpu().numpy().flatten()\n",
    "    return features"
   ]
  },
  {
   "cell_type": "code",
   "execution_count": 40,
   "metadata": {},
   "outputs": [],
   "source": [
    "# 이미지 로드 함수 추가\n",
    "def load_image(image_path):\n",
    "    try:\n",
    "        image = Image.open(image_path).convert('RGB')\n",
    "        return image\n",
    "    except IOError:\n",
    "        return None\n",
    "\n",
    "# 이미지에서 사람 탐지 및 상의/하의 추출\n",
    "def detect_and_extract(image_path):\n",
    "    image = load_image(image_path)\n",
    "    if image is None:\n",
    "        print(f\"이미지 로드 실패: {image_path}\")\n",
    "        return []\n",
    "\n",
    "    image_np = np.array(image)\n",
    "    results = yolo_model(image_np)\n",
    "    \n",
    "    clothes_images = []\n",
    "    \n",
    "    for detection in results.xyxy[0]:\n",
    "        x1, y1, x2, y2, conf, cls = detection\n",
    "        if cls == 0:  # 사람 클래스\n",
    "            person_image = image.crop((int(x1), int(y1), int(x2), int(y2)))\n",
    "            height = int(y2) - int(y1)\n",
    "            top_image = person_image.crop((0, 0, person_image.width, height // 2))\n",
    "            bottom_image = person_image.crop((0, height // 2, person_image.width, height))\n",
    "            clothes_images.append((top_image, 'top'))\n",
    "            clothes_images.append((bottom_image, 'bottom'))\n",
    "    \n",
    "    return clothes_images"
   ]
  },
  {
   "cell_type": "code",
   "execution_count": 41,
   "metadata": {},
   "outputs": [],
   "source": [
    "# 디렉토리에서 옷 이미지 불러오기 및 특징 추출\n",
    "def load_clothes_images(directory):\n",
    "    clothes_features = []\n",
    "    clothes_paths = []\n",
    "    \n",
    "    files = os.listdir(directory)\n",
    "    print(f\"디렉토리 내 파일 목록: {files}\")\n",
    "    \n",
    "    for filename in files:\n",
    "        if filename.endswith(('.jpg', '.jpeg', '.png')):\n",
    "            image_path = os.path.join(directory, filename)\n",
    "            image = load_image(image_path)\n",
    "            if image is None:\n",
    "                print(f\"이미지 로드 실패: {image_path}\")\n",
    "                continue\n",
    "            features = extract_features(image, resnet_model)\n",
    "            if features is None:\n",
    "                print(f\"특징 추출 실패: {image_path}\")\n",
    "                continue\n",
    "            clothes_features.append(features)\n",
    "            clothes_paths.append(image_path)\n",
    "    \n",
    "    return clothes_features, clothes_paths"
   ]
  },
  {
   "cell_type": "code",
   "execution_count": 42,
   "metadata": {},
   "outputs": [],
   "source": [
    "# 유사도 계산 및 top 3 유사한 옷 찾기\n",
    "def find_similar_clothes(clothes_images, clothes_features, clothes_paths):\n",
    "    similar_clothes = []\n",
    "\n",
    "    for clothes_image, clothes_type in clothes_images:\n",
    "        query_features = extract_features(clothes_image, resnet_model)\n",
    "        \n",
    "        if query_features is None:\n",
    "            print(f\"특징 추출 실패: {clothes_image}\")\n",
    "            continue\n",
    "        \n",
    "        query_features = query_features.reshape(1, -1)\n",
    "        \n",
    "        if len(clothes_features) == 0:\n",
    "            raise ValueError(\"clothes_features 배열이 비어 있습니다. 옷 이미지 디렉토리를 확인하세요.\")\n",
    "        \n",
    "        similarities = cosine_similarity(query_features, clothes_features)[0]\n",
    "        top_indices = similarities.argsort()[-3:][::-1]\n",
    "\n",
    "        for idx in top_indices:\n",
    "            similar_clothes.append((clothes_paths[idx], similarities[idx], clothes_type))\n",
    "\n",
    "    return similar_clothes"
   ]
  },
  {
   "cell_type": "code",
   "execution_count": 43,
   "metadata": {},
   "outputs": [
    {
     "name": "stdout",
     "output_type": "stream",
     "text": [
      "디렉토리 내 파일 목록: ['상의1.jpg', '상의10.jpg', '상의2.jpg', '상의3.jpg', '상의4.jpg', '상의5.jpg', '상의6.jpg', '상의7.jpg', '상의8.jpg', '상의9.jpg', '하의1.jpg', '하의10.jpg', '하의2.jpg', '하의3.jpg', '하의4.jpg', '하의5.jpg', '하의6.jpg', '하의7.jpg', '하의8.jpg', '하의9.jpg']\n",
      "디렉토리 내 파일 목록: ['상의1.jpg', '상의10.jpg', '상의2.jpg', '상의3.jpg', '상의4.jpg', '상의5.jpg', '상의6.jpg', '상의7.jpg', '상의8.jpg', '상의9.jpg', '하의1.jpg', '하의10.jpg', '하의2.jpg', '하의3.jpg', '하의4.jpg', '하의5.jpg', '하의6.jpg', '하의7.jpg', '하의8.jpg', '하의9.jpg']\n",
      "유사한 top: 비슷한 이미지 선별 모음/상의7.jpg (유사도: 0.6550813913345337)\n",
      "유사한 top: 비슷한 이미지 선별 모음/상의8.jpg (유사도: 0.6525210738182068)\n",
      "유사한 top: 비슷한 이미지 선별 모음/상의3.jpg (유사도: 0.6492006182670593)\n",
      "유사한 bottom: 비슷한 이미지 선별 모음/하의2.jpg (유사도: 0.5597414374351501)\n",
      "유사한 bottom: 비슷한 이미지 선별 모음/하의9.jpg (유사도: 0.5525659322738647)\n",
      "유사한 bottom: 비슷한 이미지 선별 모음/하의8.jpg (유사도: 0.5414959192276001)\n"
     ]
    }
   ],
   "source": [
    "# 예제 실행 코드\n",
    "image_path = '착용 이미지/image_1.jpg'\n",
    "clothes_directory = '비슷한 이미지 선별 모음/'\n",
    "\n",
    "clothes_images = detect_and_extract(image_path)\n",
    "load_clothes_images(clothes_directory)\n",
    "clothes_features, clothes_paths = load_clothes_images(clothes_directory)\n",
    "\n",
    "if len(clothes_features) == 0:\n",
    "    print(\"옷 이미지 디렉토리에서 이미지를 로드하지 못했습니다. 경로를 확인하세요.\")\n",
    "\n",
    "similar_clothes = find_similar_clothes(clothes_images, clothes_features, clothes_paths)\n",
    "\n",
    "for path, similarity, clothes_type in similar_clothes:\n",
    "    print(f\"유사한 {clothes_type}: {path} (유사도: {similarity})\")"
   ]
  }
 ],
 "metadata": {
  "kernelspec": {
   "display_name": "ai-rein",
   "language": "python",
   "name": "python3"
  },
  "language_info": {
   "codemirror_mode": {
    "name": "ipython",
    "version": 3
   },
   "file_extension": ".py",
   "mimetype": "text/x-python",
   "name": "python",
   "nbconvert_exporter": "python",
   "pygments_lexer": "ipython3",
   "version": "3.10.14"
  }
 },
 "nbformat": 4,
 "nbformat_minor": 2
}
